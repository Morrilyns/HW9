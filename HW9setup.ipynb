{
 "cells": [
  {
   "cell_type": "markdown",
   "metadata": {},
   "source": [
    "Morrilyn Savice\n",
    "Homework 9 setup \n",
    "part 1"
   ]
  },
  {
   "cell_type": "code",
   "execution_count": 1,
   "metadata": {},
   "outputs": [],
   "source": [
    "using Revise\n",
    "includet(\"Geometry.jl\")\n",
    "using .Geometry"
   ]
  },
  {
   "cell_type": "code",
   "execution_count": 10,
   "metadata": {},
   "outputs": [
    {
     "data": {
      "text/plain": [
       "Point2D{Float64}(3.0, 4.0)"
      ]
     },
     "execution_count": 10,
     "metadata": {},
     "output_type": "execute_result"
    }
   ],
   "source": [
    "# Testing Point2D constructor\n",
    "p1 = Point2D(1.0, 2.0)\n",
    "p2 = Point2D(\"3.0,4.0\") "
   ]
  },
  {
   "cell_type": "code",
   "execution_count": 9,
   "metadata": {},
   "outputs": [
    {
     "data": {
      "text/plain": [
       "(Point2D{Float64}(1.0, 2.0), Point2D{Float64}(3.0, 4.0))"
      ]
     },
     "execution_count": 9,
     "metadata": {},
     "output_type": "execute_result"
    }
   ],
   "source": [
    "p1, p2"
   ]
  },
  {
   "cell_type": "code",
   "execution_count": 11,
   "metadata": {},
   "outputs": [
    {
     "data": {
      "text/plain": [
       "Point3D{Float64}(1.5, 2.5, 3.5)"
      ]
     },
     "execution_count": 11,
     "metadata": {},
     "output_type": "execute_result"
    }
   ],
   "source": [
    "# Test Point3D constructor\n",
    "p3d1 = Point3D(1, 2, 3)\n",
    "p3d2 = Point3D(1.5, 2.5, 3.5)"
   ]
  },
  {
   "cell_type": "code",
   "execution_count": 12,
   "metadata": {},
   "outputs": [
    {
     "data": {
      "text/plain": [
       "(Point3D{Int64}(1, 2, 3), Point3D{Float64}(1.5, 2.5, 3.5))"
      ]
     },
     "execution_count": 12,
     "metadata": {},
     "output_type": "execute_result"
    }
   ],
   "source": [
    "p3d1, p3d2"
   ]
  },
  {
   "cell_type": "code",
   "execution_count": 13,
   "metadata": {},
   "outputs": [
    {
     "data": {
      "text/plain": [
       "Polygon{Float64}(Point2D{Float64}[Point2D{Float64}(0.0, 0.0), Point2D{Float64}(1.0, 0.0), Point2D{Float64}(1.0, 1.0)])"
      ]
     },
     "execution_count": 13,
     "metadata": {},
     "output_type": "execute_result"
    }
   ],
   "source": [
    "# Test Polygon constructors\n",
    "poly1 = Polygon([Point2D(0.0, 0.0), Point2D(1.0, 0.0), Point2D(1.0, 1.0)])\n",
    "poly2 = Polygon([0.0, 0.0, 1.0, 0.0, 1.0, 1.0])\n",
    "poly3 = Polygon(0.0, 0.0, 1.0, 0.0, 1.0, 1.0)"
   ]
  },
  {
   "cell_type": "code",
   "execution_count": 14,
   "metadata": {},
   "outputs": [
    {
     "data": {
      "text/plain": [
       "(Polygon{Float64}(Point2D{Float64}[Point2D{Float64}(0.0, 0.0), Point2D{Float64}(1.0, 0.0), Point2D{Float64}(1.0, 1.0)]), Polygon{Float64}(Point2D{Float64}[Point2D{Float64}(0.0, 0.0), Point2D{Float64}(1.0, 0.0), Point2D{Float64}(1.0, 1.0)]), Polygon{Float64}(Point2D{Float64}[Point2D{Float64}(0.0, 0.0), Point2D{Float64}(1.0, 0.0), Point2D{Float64}(1.0, 1.0)]))"
      ]
     },
     "execution_count": 14,
     "metadata": {},
     "output_type": "execute_result"
    }
   ],
   "source": [
    "poly1, poly2, poly3"
   ]
  },
  {
   "cell_type": "code",
   "execution_count": 15,
   "metadata": {},
   "outputs": [
    {
     "data": {
      "text/plain": [
       "7.0710678118654755"
      ]
     },
     "execution_count": 15,
     "metadata": {},
     "output_type": "execute_result"
    }
   ],
   "source": [
    "# Test distance function\n",
    "d1 = distance(Point2D(0, 0), Point2D(3, 4))\n",
    "d2 = distance(Point3D(1, 2, 3), Point3D(4, 6, 8))"
   ]
  },
  {
   "cell_type": "code",
   "execution_count": 16,
   "metadata": {},
   "outputs": [
    {
     "data": {
      "text/plain": [
       "(5.0, 7.0710678118654755)"
      ]
     },
     "execution_count": 16,
     "metadata": {},
     "output_type": "execute_result"
    }
   ],
   "source": [
    "d1, d2"
   ]
  },
  {
   "cell_type": "code",
   "execution_count": 18,
   "metadata": {},
   "outputs": [
    {
     "data": {
      "text/plain": [
       "6.0"
      ]
     },
     "execution_count": 18,
     "metadata": {},
     "output_type": "execute_result"
    }
   ],
   "source": [
    "# Test perimeter function\n",
    "triangle = Polygon([Point2D(0.0, 0.0), Point2D(1.0, 0.0), Point2D(0.0, 1.0)])\n",
    "rectangle = Polygon([Point2D(0.0, 0.0), Point2D(2.0, 0.0), Point2D(2.0, 1.0), Point2D(0.0, 1.0)])\n",
    "\n",
    "perimeter_triangle = perimeter(triangle)\n",
    "perimeter_rectangle = perimeter(rectangle)"
   ]
  },
  {
   "cell_type": "code",
   "execution_count": 19,
   "metadata": {},
   "outputs": [
    {
     "data": {
      "text/plain": [
       "(3.414213562373095, 6.0)"
      ]
     },
     "execution_count": 19,
     "metadata": {},
     "output_type": "execute_result"
    }
   ],
   "source": [
    "perimeter_triangle, perimeter_rectangle"
   ]
  },
  {
   "cell_type": "code",
   "execution_count": 20,
   "metadata": {},
   "outputs": [
    {
     "data": {
      "text/plain": [
       "ErrorException(\"Coordinates array must have an even number of elements\")"
      ]
     },
     "execution_count": 20,
     "metadata": {},
     "output_type": "execute_result"
    }
   ],
   "source": [
    "# Test error handling in Polygon constructor\n",
    "try\n",
    "    Polygon(1.0, 2.0, 3.0)  # Odd number of coordinates\n",
    "catch e\n",
    "    e  # Display the caught error\n",
    "end\n",
    " "
   ]
  }
 ],
 "metadata": {
  "kernelspec": {
   "display_name": "Julia 1.10.5",
   "language": "julia",
   "name": "julia-1.10"
  },
  "language_info": {
   "file_extension": ".jl",
   "mimetype": "application/julia",
   "name": "julia",
   "version": "1.10.5"
  }
 },
 "nbformat": 4,
 "nbformat_minor": 2
}
